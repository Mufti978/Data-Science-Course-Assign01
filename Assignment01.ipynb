{
 "cells": [
  {
   "cell_type": "code",
   "execution_count": 9,
   "id": "f8c7b9b2",
   "metadata": {},
   "outputs": [
    {
     "name": "stdout",
     "output_type": "stream",
     "text": [
      "             Twinkle, Twinkle, Little star,\n",
      "                    How I wonder what you are,\n",
      "                            Up above the world so high,\n",
      "                            Like a diamond in the sky,\n",
      "            Twinkle, Twinkle, Little star,\n",
      "                    How I wonder what you are\n"
     ]
    }
   ],
   "source": [
    "print(\"             Twinkle, Twinkle, Little star,\");\n",
    "print (\"                    How I wonder what you are,\")\n",
    "print (\"                            Up above the world so high,\");\n",
    "print (\"                            Like a diamond in the sky,\");\n",
    "print (\"            Twinkle, Twinkle, Little star,\");\n",
    "print (\"                    How I wonder what you are\")\n"
   ]
  },
  {
   "cell_type": "code",
   "execution_count": 2,
   "id": "b6fd9660",
   "metadata": {},
   "outputs": [
    {
     "name": "stdout",
     "output_type": "stream",
     "text": [
      "2.7\n"
     ]
    }
   ],
   "source": [
    "pythonversion = 2.7\n",
    "print (pythonversion)\n"
   ]
  },
  {
   "cell_type": "code",
   "execution_count": 3,
   "id": "e110e56a",
   "metadata": {},
   "outputs": [
    {
     "name": "stdout",
     "output_type": "stream",
     "text": [
      "10:11pm ,1st Jan,2022\n"
     ]
    }
   ],
   "source": [
    "time= \"10:11pm \"\n",
    "date= \",1st Jan,2022\"\n",
    "print (time + date);\n"
   ]
  },
  {
   "cell_type": "code",
   "execution_count": 5,
   "id": "0eb9493d",
   "metadata": {},
   "outputs": [
    {
     "name": "stdout",
     "output_type": "stream",
     "text": [
      "78.5\n"
     ]
    }
   ],
   "source": [
    "Radius = 5\n",
    "Area = 3.14 * (Radius*Radius)\n",
    "print (Area);\n"
   ]
  },
  {
   "cell_type": "code",
   "execution_count": 7,
   "id": "0a714021",
   "metadata": {},
   "outputs": [
    {
     "name": "stdout",
     "output_type": "stream",
     "text": [
      "Architect Data\n"
     ]
    }
   ],
   "source": [
    "a = \"Data\"\n",
    "b = \"Architect \"\n",
    "print (b + a);\n"
   ]
  },
  {
   "cell_type": "code",
   "execution_count": 8,
   "id": "61038743",
   "metadata": {},
   "outputs": [
    {
     "name": "stdout",
     "output_type": "stream",
     "text": [
      "3\n"
     ]
    }
   ],
   "source": [
    "x= 1\n",
    "y = 2\n",
    "print (x+y)\n"
   ]
  },
  {
   "cell_type": "code",
   "execution_count": null,
   "id": "30ea2ebc",
   "metadata": {},
   "outputs": [],
   "source": []
  }
 ],
 "metadata": {
  "kernelspec": {
   "display_name": "Python 3 (ipykernel)",
   "language": "python",
   "name": "python3"
  },
  "language_info": {
   "codemirror_mode": {
    "name": "ipython",
    "version": 3
   },
   "file_extension": ".py",
   "mimetype": "text/x-python",
   "name": "python",
   "nbconvert_exporter": "python",
   "pygments_lexer": "ipython3",
   "version": "3.9.7"
  }
 },
 "nbformat": 4,
 "nbformat_minor": 5
}
